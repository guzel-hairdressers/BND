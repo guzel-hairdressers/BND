{
 "cells": [
  {
   "cell_type": "markdown",
   "id": "27e68c3e",
   "metadata": {},
   "source": [
    "# Set up paths and parameters"
   ]
  },
  {
   "cell_type": "code",
   "execution_count": 54,
   "id": "e620d379",
   "metadata": {},
   "outputs": [],
   "source": [
    "input_path = './input/crowd.mp4'\n",
    "output_path = './output/crowd.mp4'\n",
    "conf_threshold = 0.3\n",
    "frame_skip = 10\n",
    "iou_threshold = 0.3\n",
    "max_age_frames = 50"
   ]
  },
  {
   "cell_type": "markdown",
   "id": "c27e993d",
   "metadata": {},
   "source": [
    "# Inference"
   ]
  },
  {
   "cell_type": "code",
   "execution_count": 55,
   "id": "78a2f8d6",
   "metadata": {},
   "outputs": [
    {
     "name": "stdout",
     "output_type": "stream",
     "text": [
      "Input video path: input/crowd.mp4\n",
      "Output video path: output/crowd.mp4\n",
      "Pass 1: Keyframe detection...\n",
      "71 keyframes detected.\n",
      "Pass 2: Interpolation and video writing...\n",
      "Обработка завершена. Видео сохранено в output/crowd.mp4\n"
     ]
    }
   ],
   "source": [
    "from tracking import process_video \n",
    "from pathlib import Path\n",
    "\n",
    "input_path = Path(input_path)\n",
    "output_path = Path(output_path)\n",
    "model_name = 'yolov8s.pt'\n",
    "\n",
    "print(f\"Input video path: {input_path}\")\n",
    "print(f\"Output video path: {output_path}\")\n",
    "\n",
    "process_video(\n",
    "    video_path=input_path, \n",
    "    output_path=output_path, \n",
    "    model_name=model_name,\n",
    "    conf_threshold=conf_threshold,\n",
    "    frame_skip=frame_skip,\n",
    "    iou_threshold=iou_threshold,\n",
    "    max_age_frames=max_age_frames\n",
    ")"
   ]
  },
  {
   "cell_type": "code",
   "execution_count": null,
   "id": "e85e3f97",
   "metadata": {},
   "outputs": [],
   "source": []
  }
 ],
 "metadata": {
  "kernelspec": {
   "display_name": "venv",
   "language": "python",
   "name": "python3"
  },
  "language_info": {
   "codemirror_mode": {
    "name": "ipython",
    "version": 3
   },
   "file_extension": ".py",
   "mimetype": "text/x-python",
   "name": "python",
   "nbconvert_exporter": "python",
   "pygments_lexer": "ipython3",
   "version": "3.10.6"
  }
 },
 "nbformat": 4,
 "nbformat_minor": 5
}
